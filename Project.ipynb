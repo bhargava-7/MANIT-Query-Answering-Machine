{
 "cells": [
  {
   "cell_type": "code",
   "execution_count": 1,
   "metadata": {},
   "outputs": [
    {
     "name": "stderr",
     "output_type": "stream",
     "text": [
      "[nltk_data] Downloading package punkt to C:\\Users\\girish\n",
      "[nltk_data]     bhargav\\AppData\\Roaming\\nltk_data...\n",
      "[nltk_data]   Package punkt is already up-to-date!\n",
      "[nltk_data] Downloading package wordnet to C:\\Users\\girish\n",
      "[nltk_data]     bhargav\\AppData\\Roaming\\nltk_data...\n",
      "[nltk_data]   Package wordnet is already up-to-date!\n"
     ]
    }
   ],
   "source": [
    "import nltk\n",
    "nltk.download('punkt')\n",
    "nltk.download('wordnet')\n",
    "from nltk.stem import WordNetLemmatizer\n",
    "lemmatizer = WordNetLemmatizer()\n",
    "import json\n",
    "import pickle"
   ]
  },
  {
   "cell_type": "code",
   "execution_count": 4,
   "metadata": {},
   "outputs": [],
   "source": [
    "import tensorflow \n",
    "import numpy as np\n",
    "from tensorflow.keras.models import Sequential\n",
    "from tensorflow.keras.layers import Dense, Activation, Dropout\n",
    "from tensorflow.keras.optimizers import SGD\n",
    "import random"
   ]
  },
  {
   "cell_type": "code",
   "execution_count": 5,
   "metadata": {},
   "outputs": [],
   "source": [
    "words=[]\n",
    "classes = []\n",
    "documents = []\n",
    "ignore_words = ['?', '!']\n",
    "data_file = open('intents3.json').read()\n",
    "intents = json.loads(data_file)"
   ]
  },
  {
   "cell_type": "code",
   "execution_count": 6,
   "metadata": {},
   "outputs": [],
   "source": [
    "for intent in intents['intents']:\n",
    "    for pattern in intent['patterns']:\n",
    "\n",
    "        # take each word and tokenize it\n",
    "        w = nltk.word_tokenize(pattern)\n",
    "        words.extend(w)\n",
    "        # adding documents\n",
    "        documents.append((w, intent['tag']))\n",
    "\n",
    "        # adding classes to our class list\n",
    "        if intent['tag'] not in classes:\n",
    "            classes.append(intent['tag'])"
   ]
  },
  {
   "cell_type": "code",
   "execution_count": 7,
   "metadata": {},
   "outputs": [
    {
     "name": "stdout",
     "output_type": "stream",
     "text": [
      "41 documents\n",
      "11 classes ['Classes', 'Notice', 'clubs', 'departments', 'dispensary', 'goodbye', 'greeting', 'options', 'places_to_visit', 'sports', 'thanks']\n",
      "93 unique lemmatized words [\"'s\", ',', 'a', 'all', 'anyone', 'are', 'attend', 'attraction', 'awesome', 'be', 'bhopal', 'bye', 'can', 'center', 'chatting', 'class', 'club', 'college', 'complex', 'could', 'day', 'depatments', 'dispensary', 'do', 'first', 'for', 'generally', 'get', 'give', 'go', 'good', 'goodbye', 'held', 'hello', 'help', 'helpful', 'helping', 'hey', 'hi', 'hola', 'hospital', 'how', 'i', 'if', 'in', 'is', 'join', 'later', 'list', 'lookup', 'manit', 'me', 'my', 'name', 'need', 'next', 'nice', 'notice', 'of', 'offered', 'on', 'one', 'patient', 'place', 'play', 'provide', 'regarding', 'see', 'should', 'sick', 'society', 'some', 'sport', 'student', 'support', 'thank', 'thanks', 'that', 'the', 'there', 'till', 'time', 'to', 'tourist', 'treatment', 'update', 'visit', 'visited', 'what', 'where', 'will', 'year', 'you']\n"
     ]
    }
   ],
   "source": [
    "words = [lemmatizer.lemmatize(w.lower()) for w in words if w not in ignore_words]\n",
    "words = sorted(list(set(words)))\n",
    "\n",
    "classes = sorted(list(set(classes)))\n",
    "\n",
    "print (len(documents), \"documents\")\n",
    "\n",
    "print (len(classes), \"classes\", classes)\n",
    "\n",
    "print (len(words), \"unique lemmatized words\", words)\n",
    "\n",
    "\n",
    "pickle.dump(words,open('words.pkl','wb'))\n",
    "pickle.dump(classes,open('classes.pkl','wb'))"
   ]
  },
  {
   "cell_type": "code",
   "execution_count": 8,
   "metadata": {},
   "outputs": [
    {
     "name": "stdout",
     "output_type": "stream",
     "text": [
      "Training data created\n"
     ]
    },
    {
     "name": "stderr",
     "output_type": "stream",
     "text": [
      "C:\\Anaconda3\\lib\\site-packages\\ipykernel_launcher.py:22: VisibleDeprecationWarning: Creating an ndarray from ragged nested sequences (which is a list-or-tuple of lists-or-tuples-or ndarrays with different lengths or shapes) is deprecated. If you meant to do this, you must specify 'dtype=object' when creating the ndarray\n"
     ]
    }
   ],
   "source": [
    "# initializing training data\n",
    "training = []\n",
    "output_empty = [0] * len(classes)\n",
    "for doc in documents:\n",
    "    # initializing bag of words\n",
    "    bag = []\n",
    "    # list of tokenized words for the pattern\n",
    "    pattern_words = doc[0]\n",
    "    # lemmatize each word - create base word, in attempt to represent related words\n",
    "    pattern_words = [lemmatizer.lemmatize(word.lower()) for word in pattern_words]\n",
    "    # create our bag of words array with 1, if word match found in current pattern\n",
    "    for w in words:\n",
    "        bag.append(1) if w in pattern_words else bag.append(0)\n",
    "\n",
    "    # output is a '0' for each tag and '1' for current tag (for each pattern)\n",
    "    output_row = list(output_empty)\n",
    "    output_row[classes.index(doc[1])] = 1\n",
    "\n",
    "    training.append([bag, output_row])\n",
    "# shuffle our features and turn into np.array\n",
    "random.shuffle(training)\n",
    "training = np.array(training)\n",
    "# create train and test lists. X - patterns, Y - intents\n",
    "train_x = list(training[:,0])\n",
    "train_y = list(training[:,1])\n",
    "print(\"Training data created\")"
   ]
  },
  {
   "cell_type": "code",
   "execution_count": 9,
   "metadata": {},
   "outputs": [
    {
     "name": "stderr",
     "output_type": "stream",
     "text": [
      "C:\\Anaconda3\\lib\\site-packages\\tensorflow\\python\\keras\\optimizer_v2\\optimizer_v2.py:375: UserWarning: The `lr` argument is deprecated, use `learning_rate` instead.\n",
      "  \"The `lr` argument is deprecated, use `learning_rate` instead.\")\n"
     ]
    },
    {
     "name": "stdout",
     "output_type": "stream",
     "text": [
      "Epoch 1/200\n",
      "9/9 [==============================] - 1s 1ms/step - loss: 2.3771 - accuracy: 0.1220\n",
      "Epoch 2/200\n",
      "9/9 [==============================] - 0s 1ms/step - loss: 2.3809 - accuracy: 0.0488\n",
      "Epoch 3/200\n",
      "9/9 [==============================] - 0s 2ms/step - loss: 2.2088 - accuracy: 0.2439\n",
      "Epoch 4/200\n",
      "9/9 [==============================] - 0s 2ms/step - loss: 2.1378 - accuracy: 0.2927\n",
      "Epoch 5/200\n",
      "9/9 [==============================] - 0s 2ms/step - loss: 1.9603 - accuracy: 0.3659\n",
      "Epoch 6/200\n",
      "9/9 [==============================] - 0s 2ms/step - loss: 1.9359 - accuracy: 0.4390\n",
      "Epoch 7/200\n",
      "9/9 [==============================] - 0s 2ms/step - loss: 1.8025 - accuracy: 0.5366\n",
      "Epoch 8/200\n",
      "9/9 [==============================] - 0s 2ms/step - loss: 1.7528 - accuracy: 0.5366\n",
      "Epoch 9/200\n",
      "9/9 [==============================] - 0s 2ms/step - loss: 1.5694 - accuracy: 0.5854\n",
      "Epoch 10/200\n",
      "9/9 [==============================] - 0s 1ms/step - loss: 1.5793 - accuracy: 0.5854\n",
      "Epoch 11/200\n",
      "9/9 [==============================] - 0s 1ms/step - loss: 1.1876 - accuracy: 0.6829\n",
      "Epoch 12/200\n",
      "9/9 [==============================] - 0s 2ms/step - loss: 1.1930 - accuracy: 0.6098\n",
      "Epoch 13/200\n",
      "9/9 [==============================] - 0s 1ms/step - loss: 1.1193 - accuracy: 0.7073\n",
      "Epoch 14/200\n",
      "9/9 [==============================] - 0s 1ms/step - loss: 1.0151 - accuracy: 0.7561\n",
      "Epoch 15/200\n",
      "9/9 [==============================] - 0s 1ms/step - loss: 1.0067 - accuracy: 0.5854\n",
      "Epoch 16/200\n",
      "9/9 [==============================] - 0s 1ms/step - loss: 0.9391 - accuracy: 0.7561\n",
      "Epoch 17/200\n",
      "9/9 [==============================] - 0s 2ms/step - loss: 0.8502 - accuracy: 0.8293\n",
      "Epoch 18/200\n",
      "9/9 [==============================] - 0s 1ms/step - loss: 0.8199 - accuracy: 0.8049\n",
      "Epoch 19/200\n",
      "9/9 [==============================] - 0s 2ms/step - loss: 0.7263 - accuracy: 0.8293\n",
      "Epoch 20/200\n",
      "9/9 [==============================] - 0s 2ms/step - loss: 0.6853 - accuracy: 0.8293\n",
      "Epoch 21/200\n",
      "9/9 [==============================] - 0s 1ms/step - loss: 0.6549 - accuracy: 0.8780\n",
      "Epoch 22/200\n",
      "9/9 [==============================] - 0s 2ms/step - loss: 0.7036 - accuracy: 0.8537\n",
      "Epoch 23/200\n",
      "9/9 [==============================] - 0s 2ms/step - loss: 0.5124 - accuracy: 0.8049\n",
      "Epoch 24/200\n",
      "9/9 [==============================] - 0s 1ms/step - loss: 0.5169 - accuracy: 0.8049\n",
      "Epoch 25/200\n",
      "9/9 [==============================] - 0s 1ms/step - loss: 0.6263 - accuracy: 0.8049\n",
      "Epoch 26/200\n",
      "9/9 [==============================] - 0s 1ms/step - loss: 0.5432 - accuracy: 0.7805\n",
      "Epoch 27/200\n",
      "9/9 [==============================] - 0s 1ms/step - loss: 0.3379 - accuracy: 0.9512\n",
      "Epoch 28/200\n",
      "9/9 [==============================] - 0s 2ms/step - loss: 0.3986 - accuracy: 0.9024\n",
      "Epoch 29/200\n",
      "9/9 [==============================] - 0s 2ms/step - loss: 0.3450 - accuracy: 0.9512\n",
      "Epoch 30/200\n",
      "9/9 [==============================] - 0s 1ms/step - loss: 0.2168 - accuracy: 0.9512\n",
      "Epoch 31/200\n",
      "9/9 [==============================] - 0s 1ms/step - loss: 0.2365 - accuracy: 0.9512\n",
      "Epoch 32/200\n",
      "9/9 [==============================] - 0s 1ms/step - loss: 0.2412 - accuracy: 0.9512\n",
      "Epoch 33/200\n",
      "9/9 [==============================] - 0s 1ms/step - loss: 0.3550 - accuracy: 0.8780\n",
      "Epoch 34/200\n",
      "9/9 [==============================] - 0s 1ms/step - loss: 0.1822 - accuracy: 0.9756\n",
      "Epoch 35/200\n",
      "9/9 [==============================] - 0s 1ms/step - loss: 0.2557 - accuracy: 0.9756\n",
      "Epoch 36/200\n",
      "9/9 [==============================] - 0s 1ms/step - loss: 0.2458 - accuracy: 0.9512\n",
      "Epoch 37/200\n",
      "9/9 [==============================] - 0s 1ms/step - loss: 0.3367 - accuracy: 0.8537\n",
      "Epoch 38/200\n",
      "9/9 [==============================] - 0s 2ms/step - loss: 0.3833 - accuracy: 0.9024\n",
      "Epoch 39/200\n",
      "9/9 [==============================] - 0s 2ms/step - loss: 0.2789 - accuracy: 0.9024\n",
      "Epoch 40/200\n",
      "9/9 [==============================] - 0s 1ms/step - loss: 0.3643 - accuracy: 0.9024\n",
      "Epoch 41/200\n",
      "9/9 [==============================] - 0s 2ms/step - loss: 0.1749 - accuracy: 0.9756\n",
      "Epoch 42/200\n",
      "9/9 [==============================] - 0s 1ms/step - loss: 0.2981 - accuracy: 0.9268\n",
      "Epoch 43/200\n",
      "9/9 [==============================] - 0s 1ms/step - loss: 0.1834 - accuracy: 1.0000\n",
      "Epoch 44/200\n",
      "9/9 [==============================] - 0s 2ms/step - loss: 0.1996 - accuracy: 0.9756\n",
      "Epoch 45/200\n",
      "9/9 [==============================] - 0s 1ms/step - loss: 0.1945 - accuracy: 0.9512\n",
      "Epoch 46/200\n",
      "9/9 [==============================] - 0s 2ms/step - loss: 0.2407 - accuracy: 0.8780\n",
      "Epoch 47/200\n",
      "9/9 [==============================] - 0s 1ms/step - loss: 0.2333 - accuracy: 0.9268\n",
      "Epoch 48/200\n",
      "9/9 [==============================] - 0s 998us/step - loss: 0.1658 - accuracy: 0.9512\n",
      "Epoch 49/200\n",
      "9/9 [==============================] - 0s 996us/step - loss: 0.1881 - accuracy: 0.9268\n",
      "Epoch 50/200\n",
      "9/9 [==============================] - 0s 1ms/step - loss: 0.1172 - accuracy: 0.9756\n",
      "Epoch 51/200\n",
      "9/9 [==============================] - 0s 2ms/step - loss: 0.0961 - accuracy: 0.9756\n",
      "Epoch 52/200\n",
      "9/9 [==============================] - 0s 1ms/step - loss: 0.1100 - accuracy: 0.9756\n",
      "Epoch 53/200\n",
      "9/9 [==============================] - 0s 1ms/step - loss: 0.2653 - accuracy: 0.9024\n",
      "Epoch 54/200\n",
      "9/9 [==============================] - 0s 1ms/step - loss: 0.1949 - accuracy: 0.9512\n",
      "Epoch 55/200\n",
      "9/9 [==============================] - 0s 1ms/step - loss: 0.2129 - accuracy: 0.9268\n",
      "Epoch 56/200\n",
      "9/9 [==============================] - 0s 997us/step - loss: 0.3189 - accuracy: 0.9024\n",
      "Epoch 57/200\n",
      "9/9 [==============================] - 0s 997us/step - loss: 0.1354 - accuracy: 0.9512\n",
      "Epoch 58/200\n",
      "9/9 [==============================] - 0s 996us/step - loss: 0.1370 - accuracy: 0.9756\n",
      "Epoch 59/200\n",
      "9/9 [==============================] - 0s 2ms/step - loss: 0.1864 - accuracy: 0.9268\n",
      "Epoch 60/200\n",
      "9/9 [==============================] - 0s 2ms/step - loss: 0.1537 - accuracy: 0.9512\n",
      "Epoch 61/200\n",
      "9/9 [==============================] - 0s 1ms/step - loss: 0.2528 - accuracy: 0.9512\n",
      "Epoch 62/200\n",
      "9/9 [==============================] - 0s 997us/step - loss: 0.1690 - accuracy: 0.9268\n",
      "Epoch 63/200\n",
      "9/9 [==============================] - 0s 997us/step - loss: 0.1439 - accuracy: 0.9756\n",
      "Epoch 64/200\n",
      "9/9 [==============================] - 0s 1ms/step - loss: 0.0538 - accuracy: 1.0000\n",
      "Epoch 65/200\n",
      "9/9 [==============================] - 0s 998us/step - loss: 0.2374 - accuracy: 0.9024\n",
      "Epoch 66/200\n",
      "9/9 [==============================] - 0s 997us/step - loss: 0.1498 - accuracy: 0.9756\n",
      "Epoch 67/200\n",
      "9/9 [==============================] - 0s 997us/step - loss: 0.0941 - accuracy: 0.9756\n",
      "Epoch 68/200\n",
      "9/9 [==============================] - 0s 1ms/step - loss: 0.0772 - accuracy: 0.9756\n",
      "Epoch 69/200\n",
      "9/9 [==============================] - 0s 997us/step - loss: 0.0876 - accuracy: 0.9756\n",
      "Epoch 70/200\n",
      "9/9 [==============================] - 0s 1ms/step - loss: 0.0628 - accuracy: 1.0000\n",
      "Epoch 71/200\n",
      "9/9 [==============================] - ETA: 0s - loss: 0.4985 - accuracy: 0.80 - 0s 1ms/step - loss: 0.2267 - accuracy: 0.9268\n",
      "Epoch 72/200\n",
      "9/9 [==============================] - 0s 1ms/step - loss: 0.1420 - accuracy: 0.9756\n",
      "Epoch 73/200\n",
      "9/9 [==============================] - 0s 1ms/step - loss: 0.0420 - accuracy: 1.0000\n",
      "Epoch 74/200\n",
      "9/9 [==============================] - 0s 1ms/step - loss: 0.1308 - accuracy: 0.9512\n",
      "Epoch 75/200\n",
      "9/9 [==============================] - 0s 1ms/step - loss: 0.0832 - accuracy: 0.9756\n",
      "Epoch 76/200\n",
      "9/9 [==============================] - ETA: 0s - loss: 0.0298 - accuracy: 1.00 - 0s 1ms/step - loss: 0.0777 - accuracy: 1.0000\n",
      "Epoch 77/200\n",
      "9/9 [==============================] - 0s 2ms/step - loss: 0.0499 - accuracy: 1.0000\n",
      "Epoch 78/200\n",
      "9/9 [==============================] - 0s 1ms/step - loss: 0.1519 - accuracy: 0.9512\n",
      "Epoch 79/200\n",
      "9/9 [==============================] - 0s 1ms/step - loss: 0.0933 - accuracy: 0.9756\n",
      "Epoch 80/200\n",
      "9/9 [==============================] - 0s 1ms/step - loss: 0.5883 - accuracy: 0.9268\n",
      "Epoch 81/200\n",
      "9/9 [==============================] - 0s 1ms/step - loss: 0.0532 - accuracy: 0.9756\n",
      "Epoch 82/200\n",
      "9/9 [==============================] - 0s 997us/step - loss: 0.1913 - accuracy: 0.9512\n",
      "Epoch 83/200\n"
     ]
    },
    {
     "name": "stdout",
     "output_type": "stream",
     "text": [
      "9/9 [==============================] - 0s 873us/step - loss: 0.1882 - accuracy: 0.9268\n",
      "Epoch 84/200\n",
      "9/9 [==============================] - 0s 997us/step - loss: 0.0810 - accuracy: 0.9756\n",
      "Epoch 85/200\n",
      "9/9 [==============================] - 0s 2ms/step - loss: 0.1926 - accuracy: 0.9268\n",
      "Epoch 86/200\n",
      "9/9 [==============================] - 0s 873us/step - loss: 0.1359 - accuracy: 0.9512\n",
      "Epoch 87/200\n",
      "9/9 [==============================] - 0s 1ms/step - loss: 0.1739 - accuracy: 0.9512\n",
      "Epoch 88/200\n",
      "9/9 [==============================] - 0s 1ms/step - loss: 0.0702 - accuracy: 1.0000\n",
      "Epoch 89/200\n",
      "9/9 [==============================] - 0s 1ms/step - loss: 0.1350 - accuracy: 0.9268\n",
      "Epoch 90/200\n",
      "9/9 [==============================] - 0s 877us/step - loss: 0.0545 - accuracy: 1.0000\n",
      "Epoch 91/200\n",
      "9/9 [==============================] - 0s 993us/step - loss: 0.0503 - accuracy: 1.0000\n",
      "Epoch 92/200\n",
      "9/9 [==============================] - 0s 997us/step - loss: 0.0605 - accuracy: 0.9756\n",
      "Epoch 93/200\n",
      "9/9 [==============================] - 0s 1ms/step - loss: 0.2321 - accuracy: 0.9268\n",
      "Epoch 94/200\n",
      "9/9 [==============================] - 0s 2ms/step - loss: 0.0789 - accuracy: 0.9756\n",
      "Epoch 95/200\n",
      "9/9 [==============================] - 0s 2ms/step - loss: 0.0568 - accuracy: 0.9756\n",
      "Epoch 96/200\n",
      "9/9 [==============================] - 0s 2ms/step - loss: 0.0529 - accuracy: 1.0000\n",
      "Epoch 97/200\n",
      "9/9 [==============================] - 0s 1ms/step - loss: 0.1243 - accuracy: 0.9756\n",
      "Epoch 98/200\n",
      "9/9 [==============================] - 0s 2ms/step - loss: 0.1676 - accuracy: 0.9512\n",
      "Epoch 99/200\n",
      "9/9 [==============================] - 0s 1ms/step - loss: 0.0567 - accuracy: 1.0000\n",
      "Epoch 100/200\n",
      "9/9 [==============================] - 0s 1ms/step - loss: 0.1325 - accuracy: 0.9756\n",
      "Epoch 101/200\n",
      "9/9 [==============================] - 0s 1ms/step - loss: 0.0801 - accuracy: 0.9756\n",
      "Epoch 102/200\n",
      "9/9 [==============================] - 0s 1ms/step - loss: 0.0318 - accuracy: 1.0000\n",
      "Epoch 103/200\n",
      "9/9 [==============================] - 0s 1ms/step - loss: 0.0641 - accuracy: 1.0000\n",
      "Epoch 104/200\n",
      "9/9 [==============================] - 0s 1ms/step - loss: 0.0525 - accuracy: 0.9756\n",
      "Epoch 105/200\n",
      "9/9 [==============================] - 0s 1ms/step - loss: 0.0346 - accuracy: 1.0000\n",
      "Epoch 106/200\n",
      "9/9 [==============================] - 0s 1ms/step - loss: 0.0426 - accuracy: 1.0000\n",
      "Epoch 107/200\n",
      "9/9 [==============================] - 0s 1ms/step - loss: 0.0618 - accuracy: 1.0000\n",
      "Epoch 108/200\n",
      "9/9 [==============================] - 0s 1ms/step - loss: 0.0656 - accuracy: 1.0000\n",
      "Epoch 109/200\n",
      "9/9 [==============================] - 0s 873us/step - loss: 0.1029 - accuracy: 0.9756\n",
      "Epoch 110/200\n",
      "9/9 [==============================] - 0s 1ms/step - loss: 0.0852 - accuracy: 0.9756\n",
      "Epoch 111/200\n",
      "9/9 [==============================] - 0s 1ms/step - loss: 0.1791 - accuracy: 0.9268\n",
      "Epoch 112/200\n",
      "9/9 [==============================] - 0s 1ms/step - loss: 0.0848 - accuracy: 0.9756\n",
      "Epoch 113/200\n",
      "9/9 [==============================] - 0s 1ms/step - loss: 0.0346 - accuracy: 1.0000\n",
      "Epoch 114/200\n",
      "9/9 [==============================] - 0s 1ms/step - loss: 0.1158 - accuracy: 0.9512\n",
      "Epoch 115/200\n",
      "9/9 [==============================] - 0s 1ms/step - loss: 0.2844 - accuracy: 0.9024\n",
      "Epoch 116/200\n",
      "9/9 [==============================] - 0s 1ms/step - loss: 0.1368 - accuracy: 0.9756\n",
      "Epoch 117/200\n",
      "9/9 [==============================] - 0s 993us/step - loss: 0.1722 - accuracy: 0.9512\n",
      "Epoch 118/200\n",
      "9/9 [==============================] - 0s 1ms/step - loss: 0.1359 - accuracy: 0.9512\n",
      "Epoch 119/200\n",
      "9/9 [==============================] - 0s 1ms/step - loss: 0.0897 - accuracy: 0.9756\n",
      "Epoch 120/200\n",
      "9/9 [==============================] - 0s 1ms/step - loss: 0.0449 - accuracy: 0.9756\n",
      "Epoch 121/200\n",
      "9/9 [==============================] - 0s 1ms/step - loss: 0.1273 - accuracy: 0.9512\n",
      "Epoch 122/200\n",
      "9/9 [==============================] - 0s 1ms/step - loss: 0.0995 - accuracy: 0.9756\n",
      "Epoch 123/200\n",
      "9/9 [==============================] - 0s 1ms/step - loss: 0.0259 - accuracy: 1.0000\n",
      "Epoch 124/200\n",
      "9/9 [==============================] - 0s 1ms/step - loss: 0.0716 - accuracy: 0.9756\n",
      "Epoch 125/200\n",
      "9/9 [==============================] - 0s 1ms/step - loss: 0.0324 - accuracy: 1.0000\n",
      "Epoch 126/200\n",
      "9/9 [==============================] - 0s 384us/step - loss: 0.0793 - accuracy: 0.9756\n",
      "Epoch 127/200\n",
      "9/9 [==============================] - 0s 2ms/step - loss: 0.0727 - accuracy: 0.9756\n",
      "Epoch 128/200\n",
      "9/9 [==============================] - 0s 997us/step - loss: 0.0531 - accuracy: 1.0000\n",
      "Epoch 129/200\n",
      "9/9 [==============================] - 0s 997us/step - loss: 0.1380 - accuracy: 0.9512\n",
      "Epoch 130/200\n",
      "9/9 [==============================] - 0s 1ms/step - loss: 0.0730 - accuracy: 0.9512\n",
      "Epoch 131/200\n",
      "9/9 [==============================] - 0s 1ms/step - loss: 0.0560 - accuracy: 1.0000\n",
      "Epoch 132/200\n",
      "9/9 [==============================] - 0s 1ms/step - loss: 0.0694 - accuracy: 0.9756\n",
      "Epoch 133/200\n",
      "9/9 [==============================] - 0s 1ms/step - loss: 0.0387 - accuracy: 1.0000\n",
      "Epoch 134/200\n",
      "9/9 [==============================] - 0s 1ms/step - loss: 0.0501 - accuracy: 1.0000\n",
      "Epoch 135/200\n",
      "9/9 [==============================] - 0s 1ms/step - loss: 0.0420 - accuracy: 1.0000\n",
      "Epoch 136/200\n",
      "9/9 [==============================] - 0s 997us/step - loss: 0.0292 - accuracy: 1.0000\n",
      "Epoch 137/200\n",
      "9/9 [==============================] - 0s 1ms/step - loss: 0.0550 - accuracy: 1.0000\n",
      "Epoch 138/200\n",
      "9/9 [==============================] - 0s 1ms/step - loss: 0.0197 - accuracy: 1.0000\n",
      "Epoch 139/200\n",
      "9/9 [==============================] - 0s 1ms/step - loss: 0.0470 - accuracy: 0.9756\n",
      "Epoch 140/200\n",
      "9/9 [==============================] - 0s 1ms/step - loss: 0.0492 - accuracy: 0.9756\n",
      "Epoch 141/200\n",
      "9/9 [==============================] - 0s 2ms/step - loss: 0.0316 - accuracy: 1.0000\n",
      "Epoch 142/200\n",
      "9/9 [==============================] - 0s 1ms/step - loss: 0.1120 - accuracy: 0.9756\n",
      "Epoch 143/200\n",
      "9/9 [==============================] - 0s 1ms/step - loss: 0.0589 - accuracy: 0.9756\n",
      "Epoch 144/200\n",
      "9/9 [==============================] - 0s 1ms/step - loss: 0.0157 - accuracy: 1.0000\n",
      "Epoch 145/200\n",
      "9/9 [==============================] - 0s 1ms/step - loss: 0.0471 - accuracy: 1.0000\n",
      "Epoch 146/200\n",
      "9/9 [==============================] - 0s 997us/step - loss: 0.0132 - accuracy: 1.0000\n",
      "Epoch 147/200\n",
      "9/9 [==============================] - 0s 1ms/step - loss: 0.0235 - accuracy: 1.0000\n",
      "Epoch 148/200\n",
      "9/9 [==============================] - 0s 1ms/step - loss: 0.0344 - accuracy: 1.0000\n",
      "Epoch 149/200\n",
      "9/9 [==============================] - 0s 1ms/step - loss: 0.0096 - accuracy: 1.0000\n",
      "Epoch 150/200\n",
      "9/9 [==============================] - 0s 1ms/step - loss: 0.0386 - accuracy: 1.0000\n",
      "Epoch 151/200\n",
      "9/9 [==============================] - 0s 1ms/step - loss: 0.0203 - accuracy: 1.0000\n",
      "Epoch 152/200\n",
      "9/9 [==============================] - 0s 1ms/step - loss: 0.0993 - accuracy: 0.9512\n",
      "Epoch 153/200\n",
      "9/9 [==============================] - 0s 1ms/step - loss: 0.0726 - accuracy: 0.9756\n",
      "Epoch 154/200\n",
      "9/9 [==============================] - 0s 1ms/step - loss: 0.0440 - accuracy: 0.9756\n",
      "Epoch 155/200\n",
      "9/9 [==============================] - 0s 1ms/step - loss: 0.0326 - accuracy: 1.0000\n",
      "Epoch 156/200\n",
      "9/9 [==============================] - 0s 1ms/step - loss: 0.1588 - accuracy: 0.9756\n",
      "Epoch 157/200\n",
      "9/9 [==============================] - 0s 997us/step - loss: 0.1260 - accuracy: 0.9756\n",
      "Epoch 158/200\n",
      "9/9 [==============================] - 0s 1ms/step - loss: 0.0294 - accuracy: 1.0000\n",
      "Epoch 159/200\n",
      "9/9 [==============================] - 0s 1ms/step - loss: 0.0115 - accuracy: 1.0000\n",
      "Epoch 160/200\n",
      "9/9 [==============================] - 0s 1ms/step - loss: 0.0180 - accuracy: 1.0000\n",
      "Epoch 161/200\n",
      "9/9 [==============================] - 0s 1ms/step - loss: 0.0392 - accuracy: 1.0000\n",
      "Epoch 162/200\n",
      "9/9 [==============================] - 0s 1ms/step - loss: 0.0283 - accuracy: 0.9756\n",
      "Epoch 163/200\n",
      "9/9 [==============================] - 0s 1ms/step - loss: 0.0153 - accuracy: 1.0000\n",
      "Epoch 164/200\n",
      "9/9 [==============================] - 0s 1ms/step - loss: 0.0071 - accuracy: 1.0000\n",
      "Epoch 165/200\n"
     ]
    },
    {
     "name": "stdout",
     "output_type": "stream",
     "text": [
      "9/9 [==============================] - 0s 1ms/step - loss: 0.0148 - accuracy: 1.0000\n",
      "Epoch 166/200\n",
      "9/9 [==============================] - 0s 1ms/step - loss: 0.0343 - accuracy: 0.9756\n",
      "Epoch 167/200\n",
      "9/9 [==============================] - 0s 1ms/step - loss: 0.0177 - accuracy: 1.0000\n",
      "Epoch 168/200\n",
      "9/9 [==============================] - 0s 1ms/step - loss: 0.0213 - accuracy: 1.0000\n",
      "Epoch 169/200\n",
      "9/9 [==============================] - 0s 1ms/step - loss: 0.0168 - accuracy: 1.0000\n",
      "Epoch 170/200\n",
      "9/9 [==============================] - 0s 1ms/step - loss: 0.0162 - accuracy: 1.0000\n",
      "Epoch 171/200\n",
      "9/9 [==============================] - 0s 997us/step - loss: 0.0136 - accuracy: 1.0000\n",
      "Epoch 172/200\n",
      "9/9 [==============================] - 0s 997us/step - loss: 0.0166 - accuracy: 1.0000\n",
      "Epoch 173/200\n",
      "9/9 [==============================] - 0s 1ms/step - loss: 0.0545 - accuracy: 1.0000\n",
      "Epoch 174/200\n",
      "9/9 [==============================] - 0s 1ms/step - loss: 0.1338 - accuracy: 0.9756\n",
      "Epoch 175/200\n",
      "9/9 [==============================] - 0s 1ms/step - loss: 0.0088 - accuracy: 1.0000\n",
      "Epoch 176/200\n",
      "9/9 [==============================] - 0s 1ms/step - loss: 0.0307 - accuracy: 1.0000\n",
      "Epoch 177/200\n",
      "9/9 [==============================] - 0s 1ms/step - loss: 0.0249 - accuracy: 1.0000\n",
      "Epoch 178/200\n",
      "9/9 [==============================] - 0s 997us/step - loss: 0.0301 - accuracy: 1.0000\n",
      "Epoch 179/200\n",
      "9/9 [==============================] - 0s 997us/step - loss: 0.0184 - accuracy: 1.0000\n",
      "Epoch 180/200\n",
      "9/9 [==============================] - 0s 2ms/step - loss: 0.0352 - accuracy: 1.0000\n",
      "Epoch 181/200\n",
      "9/9 [==============================] - 0s 1ms/step - loss: 0.0278 - accuracy: 1.0000\n",
      "Epoch 182/200\n",
      "9/9 [==============================] - 0s 2ms/step - loss: 0.0610 - accuracy: 0.9756\n",
      "Epoch 183/200\n",
      "9/9 [==============================] - 0s 1ms/step - loss: 0.0124 - accuracy: 1.0000\n",
      "Epoch 184/200\n",
      "9/9 [==============================] - 0s 997us/step - loss: 0.0082 - accuracy: 1.0000\n",
      "Epoch 185/200\n",
      "9/9 [==============================] - 0s 1ms/step - loss: 0.0097 - accuracy: 1.0000\n",
      "Epoch 186/200\n",
      "9/9 [==============================] - 0s 2ms/step - loss: 0.0189 - accuracy: 1.0000\n",
      "Epoch 187/200\n",
      "9/9 [==============================] - 0s 1ms/step - loss: 0.0581 - accuracy: 0.9756\n",
      "Epoch 188/200\n",
      "9/9 [==============================] - 0s 2ms/step - loss: 0.0320 - accuracy: 0.9756\n",
      "Epoch 189/200\n",
      "9/9 [==============================] - 0s 2ms/step - loss: 0.0099 - accuracy: 1.0000\n",
      "Epoch 190/200\n",
      "9/9 [==============================] - 0s 1ms/step - loss: 0.0239 - accuracy: 1.0000\n",
      "Epoch 191/200\n",
      "9/9 [==============================] - 0s 2ms/step - loss: 0.0571 - accuracy: 1.0000\n",
      "Epoch 192/200\n",
      "9/9 [==============================] - 0s 1ms/step - loss: 0.0256 - accuracy: 1.0000\n",
      "Epoch 193/200\n",
      "9/9 [==============================] - 0s 2ms/step - loss: 0.0572 - accuracy: 0.9756\n",
      "Epoch 194/200\n",
      "9/9 [==============================] - 0s 2ms/step - loss: 0.0547 - accuracy: 0.9756\n",
      "Epoch 195/200\n",
      "9/9 [==============================] - 0s 1ms/step - loss: 0.0462 - accuracy: 0.9756\n",
      "Epoch 196/200\n",
      "9/9 [==============================] - 0s 1ms/step - loss: 0.0266 - accuracy: 0.9756\n",
      "Epoch 197/200\n",
      "9/9 [==============================] - 0s 1ms/step - loss: 0.0534 - accuracy: 0.9756\n",
      "Epoch 198/200\n",
      "9/9 [==============================] - 0s 871us/step - loss: 0.0611 - accuracy: 0.9756\n",
      "Epoch 199/200\n",
      "9/9 [==============================] - 0s 997us/step - loss: 0.0264 - accuracy: 0.9756\n",
      "Epoch 200/200\n",
      "9/9 [==============================] - 0s 996us/step - loss: 0.0068 - accuracy: 1.0000\n",
      "model created\n"
     ]
    }
   ],
   "source": [
    "# Create model - 3 layers. First layer 128 neurons, second layer 64 neurons and 3rd output layer contains number of neurons\n",
    "# equal to number of intents to predict output intent with softmax\n",
    "model = Sequential()\n",
    "model.add(Dense(128, input_shape=(len(train_x[0]),), activation='relu'))\n",
    "model.add(Dropout(0.5))\n",
    "model.add(Dense(64, activation='relu'))\n",
    "model.add(Dropout(0.5))\n",
    "model.add(Dense(len(train_y[0]), activation='softmax'))\n",
    "\n",
    "# Compile model. Stochastic gradient descent with Nesterov accelerated gradient gives good results for this model\n",
    "sgd = SGD(lr=0.01, decay=1e-6, momentum=0.9, nesterov=True)\n",
    "model.compile(loss='categorical_crossentropy', optimizer=sgd, metrics=['accuracy'])\n",
    "\n",
    "#fitting and saving the model\n",
    "hist = model.fit(np.array(train_x), np.array(train_y), epochs=200, batch_size=5, verbose=1)\n",
    "model.save('chatbot_model.h5', hist)\n",
    "\n",
    "print(\"model created\")"
   ]
  },
  {
   "cell_type": "code",
   "execution_count": 10,
   "metadata": {},
   "outputs": [],
   "source": [
    "from tensorflow.keras.models import load_model\n",
    "model = load_model('chatbot_model.h5')\n",
    "import json\n",
    "import random\n",
    "intents = json.loads(open('intents3.json').read())\n",
    "words = pickle.load(open('words.pkl','rb'))\n",
    "classes = pickle.load(open('classes.pkl','rb'))"
   ]
  },
  {
   "cell_type": "code",
   "execution_count": 11,
   "metadata": {},
   "outputs": [],
   "source": [
    "def clean_up_sentence(sentence):\n",
    "    sentence_words = nltk.word_tokenize(sentence)\n",
    "    sentence_words = [lemmatizer.lemmatize(word.lower()) for word in sentence_words]\n",
    "    return sentence_words\n",
    "\n",
    "# return bag of words array: 0 or 1 for each word in the bag that exists in the sentence\n",
    "\n",
    "def bow(sentence, words, show_details=True):\n",
    "    # tokenize the pattern\n",
    "    sentence_words = clean_up_sentence(sentence)\n",
    "    # bag of words - matrix of N words, vocabulary matrix\n",
    "    bag = [0]*len(words)\n",
    "    for s in sentence_words:\n",
    "        for i,w in enumerate(words):\n",
    "            if w == s:\n",
    "                # assign 1 if current word is in the vocabulary position\n",
    "                bag[i] = 1\n",
    "                if show_details:\n",
    "                    print (\"found in bag: %s\" % w)\n",
    "    return(np.array(bag))\n",
    "\n",
    "def predict_class(sentence, model):\n",
    "    # filter out predictions below a threshold\n",
    "    p = bow(sentence, words,show_details=False)\n",
    "    res = model.predict(np.array([p]))[0]\n",
    "    ERROR_THRESHOLD = 0.25\n",
    "    results = [[i,r] for i,r in enumerate(res) if r>ERROR_THRESHOLD]\n",
    "    # sort by strength of probability\n",
    "    results.sort(key=lambda x: x[1], reverse=True)\n",
    "    return_list = []\n",
    "    for r in results:\n",
    "        return_list.append({\"intent\": classes[r[0]], \"probability\": str(r[1])})\n",
    "    return return_list\n",
    "\n",
    "def getResponse(ints, intents_json):\n",
    "    tag = ints[0]['intent']\n",
    "    list_of_intents = intents_json['intents']\n",
    "    for i in list_of_intents:\n",
    "        if(i['tag']== tag):\n",
    "            result = random.choice(i['responses'])\n",
    "            break\n",
    "    return result\n",
    "\n",
    "def chatbot_response(msg):\n",
    "    ints = predict_class(msg, model)\n",
    "    res = getResponse(ints, intents)\n",
    "    return res"
   ]
  },
  {
   "cell_type": "code",
   "execution_count": 12,
   "metadata": {},
   "outputs": [
    {
     "data": {
      "text/plain": [
       "'Good to see you again'"
      ]
     },
     "execution_count": 12,
     "metadata": {},
     "output_type": "execute_result"
    }
   ],
   "source": [
    "chatbot_response('Hello')"
   ]
  },
  {
   "cell_type": "code",
   "execution_count": null,
   "metadata": {},
   "outputs": [],
   "source": []
  },
  {
   "cell_type": "code",
   "execution_count": null,
   "metadata": {},
   "outputs": [],
   "source": []
  },
  {
   "cell_type": "code",
   "execution_count": 13,
   "metadata": {},
   "outputs": [
    {
     "data": {
      "text/plain": [
       "'One should go to dispensary in MANIT located in front of sports complex for treatment purpose.'"
      ]
     },
     "execution_count": 13,
     "metadata": {},
     "output_type": "execute_result"
    }
   ],
   "source": [
    "chatbot_response('Where is dispensary in MANIT?')"
   ]
  },
  {
   "cell_type": "code",
   "execution_count": 14,
   "metadata": {},
   "outputs": [
    {
     "data": {
      "text/plain": [
       "'To attend the classes in first year one should go to the New Teaching block.'"
      ]
     },
     "execution_count": 14,
     "metadata": {},
     "output_type": "execute_result"
    }
   ],
   "source": [
    "chatbot_response('Where will my classes be held in first year?')"
   ]
  },
  {
   "cell_type": "code",
   "execution_count": 15,
   "metadata": {},
   "outputs": [
    {
     "data": {
      "text/plain": [
       "'Some student clubs in MANIT are IBC, VISION, ISTE, AAROHA, AE SE AENAK, ROBOTICS CLUB, QUIZZERS CLUB'"
      ]
     },
     "execution_count": 15,
     "metadata": {},
     "output_type": "execute_result"
    }
   ],
   "source": [
    "chatbot_response('What are some student clubs in MANIT?')"
   ]
  },
  {
   "cell_type": "code",
   "execution_count": 16,
   "metadata": {},
   "outputs": [
    {
     "data": {
      "text/plain": [
       "\"Some places to visit in Bhopal are Upper Lake, Van Vihar National Park, Shahpura Lake, People's mall, Sair Sapata, Bharat Bhawan\""
      ]
     },
     "execution_count": 16,
     "metadata": {},
     "output_type": "execute_result"
    }
   ],
   "source": [
    "chatbot_response('Places to visit in Bhopal')"
   ]
  },
  {
   "cell_type": "code",
   "execution_count": 17,
   "metadata": {},
   "outputs": [
    {
     "data": {
      "text/plain": [
       "'Sports that one can play in MANIT are Cricket, Football, Basketball, Volleyball, Badminton, Table Tennis, Chess'"
      ]
     },
     "execution_count": 17,
     "metadata": {},
     "output_type": "execute_result"
    }
   ],
   "source": [
    "chatbot_response('List the sports I can play in MANIT')"
   ]
  },
  {
   "cell_type": "code",
   "execution_count": 18,
   "metadata": {},
   "outputs": [
    {
     "data": {
      "text/plain": [
       "'The depaertments in MANIT are EE, CSE, ECE, MSME, CIVIL, CHEMICAL'"
      ]
     },
     "execution_count": 18,
     "metadata": {},
     "output_type": "execute_result"
    }
   ],
   "source": [
    "chatbot_response('What are the departments in MANIT')"
   ]
  },
  {
   "cell_type": "code",
   "execution_count": 19,
   "metadata": {},
   "outputs": [
    {
     "data": {
      "text/plain": [
       "'See you!'"
      ]
     },
     "execution_count": 19,
     "metadata": {},
     "output_type": "execute_result"
    }
   ],
   "source": [
    "chatbot_response('Bye')"
   ]
  },
  {
   "cell_type": "code",
   "execution_count": 26,
   "metadata": {},
   "outputs": [
    {
     "name": "stderr",
     "output_type": "stream",
     "text": [
      "Exception in Tkinter callback\n",
      "Traceback (most recent call last):\n",
      "  File \"C:\\Anaconda3\\lib\\tkinter\\__init__.py\", line 1705, in __call__\n",
      "    return self.func(*args)\n",
      "  File \"<ipython-input-26-51a6a3fa0d2a>\", line 18, in send\n",
      "    speak(res)\n",
      "NameError: name 'speak' is not defined\n",
      "Exception in Tkinter callback\n",
      "Traceback (most recent call last):\n",
      "  File \"C:\\Anaconda3\\lib\\tkinter\\__init__.py\", line 1705, in __call__\n",
      "    return self.func(*args)\n",
      "  File \"<ipython-input-26-51a6a3fa0d2a>\", line 18, in send\n",
      "    speak(res)\n",
      "NameError: name 'speak' is not defined\n",
      "Exception in Tkinter callback\n",
      "Traceback (most recent call last):\n",
      "  File \"C:\\Anaconda3\\lib\\tkinter\\__init__.py\", line 1705, in __call__\n",
      "    return self.func(*args)\n",
      "  File \"<ipython-input-26-51a6a3fa0d2a>\", line 18, in send\n",
      "    speak(res)\n",
      "NameError: name 'speak' is not defined\n"
     ]
    }
   ],
   "source": [
    "#Creating GUI with tkinter\n",
    "import tkinter\n",
    "from tkinter import *\n",
    "\n",
    "\n",
    "def send():\n",
    "    msg = EntryBox.get(\"1.0\",'end-1c').strip()\n",
    "    EntryBox.delete(\"0.0\",END)\n",
    "\n",
    "    if msg != '':\n",
    "        ChatLog.config(state=NORMAL)\n",
    "        ChatLog.insert(END, \"Query: \" + msg + '\\n\\n')\n",
    "        ChatLog.config(foreground=\"#442265\", font=(\"Verdana\", 12 ))\n",
    "\n",
    "        res = chatbot_response(msg)\n",
    "        ChatLog.insert(END, \"Bot: \" + res + '\\n\\n')\n",
    "        \n",
    "        speak(res)\n",
    "\n",
    "        ChatLog.config(state=DISABLED)\n",
    "        ChatLog.yview(END)\n",
    "\n",
    "\n",
    "base = Tk()\n",
    "base.title(\"MANIT Query Answering System\")\n",
    "base.geometry(\"400x500\")\n",
    "base.resizable(width=FALSE, height=FALSE)\n",
    "\n",
    "#Create Chat window\n",
    "ChatLog = Text(base, bd=0, bg=\"white\", height=\"6\", width=\"50\", font=\"Arial\",)\n",
    "\n",
    "ChatLog.config(state=DISABLED)\n",
    "\n",
    "#Bind scrollbar to Chat window\n",
    "scrollbar = Scrollbar(base, command=ChatLog.yview, cursor=\"heart\")\n",
    "ChatLog['yscrollcommand'] = scrollbar.set\n",
    "\n",
    "#Create Button to send message\n",
    "SendButton = Button(base, font=(\"Verdana\",12,'bold'), text=\"Respond\", width=\"10\", height=2,\n",
    "                    bd=0, bg=\"black\", activebackground=\"#3c9d9b\",fg='#ffffff',\n",
    "                    command= send )\n",
    "\n",
    "#Create the box to enter message\n",
    "EntryBox = Text(base, bd=0, bg=\"white\",width=\"29\", height=\"5\", font=\"Arial\")\n",
    "#EntryBox.bind(\"<Return>\", send)\n",
    "\n",
    "\n",
    "#Place all components on the screen\n",
    "scrollbar.place(x=376,y=6, height=386)\n",
    "ChatLog.place(x=6,y=6, height=386, width=370)\n",
    "EntryBox.place(x=128, y=401, height=90, width=265)\n",
    "SendButton.place(x=6, y=401, height=90)\n",
    "\n",
    "base.mainloop()"
   ]
  },
  {
   "cell_type": "markdown",
   "metadata": {},
   "source": [
    "# Audio Query"
   ]
  },
  {
   "cell_type": "code",
   "execution_count": 27,
   "metadata": {},
   "outputs": [],
   "source": [
    "import speech_recognition as s\n",
    "\n",
    "def audioQuery():\n",
    "    sr=s.Recognizer()\n",
    "    sr.pause_threshold=1\n",
    "    print(\"speak\")\n",
    "    with s.Microphone() as m:\n",
    "        audio=sr.listen(m)\n",
    "        query=sr.recognize_google(audio,language='eng-in')\n",
    "        print(query)"
   ]
  },
  {
   "cell_type": "code",
   "execution_count": 28,
   "metadata": {},
   "outputs": [
    {
     "name": "stdout",
     "output_type": "stream",
     "text": [
      "speak\n"
     ]
    },
    {
     "ename": "UnknownValueError",
     "evalue": "",
     "output_type": "error",
     "traceback": [
      "\u001b[1;31m---------------------------------------------------------------------------\u001b[0m",
      "\u001b[1;31mUnknownValueError\u001b[0m                         Traceback (most recent call last)",
      "\u001b[1;32m<ipython-input-28-523814a05a80>\u001b[0m in \u001b[0;36m<module>\u001b[1;34m\u001b[0m\n\u001b[1;32m----> 1\u001b[1;33m \u001b[0maudioQuery\u001b[0m\u001b[1;33m(\u001b[0m\u001b[1;33m)\u001b[0m\u001b[1;33m\u001b[0m\u001b[1;33m\u001b[0m\u001b[0m\n\u001b[0m",
      "\u001b[1;32m<ipython-input-27-2e140f725ac8>\u001b[0m in \u001b[0;36maudioQuery\u001b[1;34m()\u001b[0m\n\u001b[0;32m      7\u001b[0m     \u001b[1;32mwith\u001b[0m \u001b[0ms\u001b[0m\u001b[1;33m.\u001b[0m\u001b[0mMicrophone\u001b[0m\u001b[1;33m(\u001b[0m\u001b[1;33m)\u001b[0m \u001b[1;32mas\u001b[0m \u001b[0mm\u001b[0m\u001b[1;33m:\u001b[0m\u001b[1;33m\u001b[0m\u001b[1;33m\u001b[0m\u001b[0m\n\u001b[0;32m      8\u001b[0m         \u001b[0maudio\u001b[0m\u001b[1;33m=\u001b[0m\u001b[0msr\u001b[0m\u001b[1;33m.\u001b[0m\u001b[0mlisten\u001b[0m\u001b[1;33m(\u001b[0m\u001b[0mm\u001b[0m\u001b[1;33m)\u001b[0m\u001b[1;33m\u001b[0m\u001b[1;33m\u001b[0m\u001b[0m\n\u001b[1;32m----> 9\u001b[1;33m         \u001b[0mquery\u001b[0m\u001b[1;33m=\u001b[0m\u001b[0msr\u001b[0m\u001b[1;33m.\u001b[0m\u001b[0mrecognize_google\u001b[0m\u001b[1;33m(\u001b[0m\u001b[0maudio\u001b[0m\u001b[1;33m,\u001b[0m\u001b[0mlanguage\u001b[0m\u001b[1;33m=\u001b[0m\u001b[1;34m'eng-in'\u001b[0m\u001b[1;33m)\u001b[0m\u001b[1;33m\u001b[0m\u001b[1;33m\u001b[0m\u001b[0m\n\u001b[0m\u001b[0;32m     10\u001b[0m         \u001b[0mprint\u001b[0m\u001b[1;33m(\u001b[0m\u001b[0mquery\u001b[0m\u001b[1;33m)\u001b[0m\u001b[1;33m\u001b[0m\u001b[1;33m\u001b[0m\u001b[0m\n",
      "\u001b[1;32mC:\\Anaconda3\\lib\\site-packages\\speech_recognition\\__init__.py\u001b[0m in \u001b[0;36mrecognize_google\u001b[1;34m(self, audio_data, key, language, show_all)\u001b[0m\n\u001b[0;32m    856\u001b[0m         \u001b[1;31m# return results\u001b[0m\u001b[1;33m\u001b[0m\u001b[1;33m\u001b[0m\u001b[1;33m\u001b[0m\u001b[0m\n\u001b[0;32m    857\u001b[0m         \u001b[1;32mif\u001b[0m \u001b[0mshow_all\u001b[0m\u001b[1;33m:\u001b[0m \u001b[1;32mreturn\u001b[0m \u001b[0mactual_result\u001b[0m\u001b[1;33m\u001b[0m\u001b[1;33m\u001b[0m\u001b[0m\n\u001b[1;32m--> 858\u001b[1;33m         \u001b[1;32mif\u001b[0m \u001b[1;32mnot\u001b[0m \u001b[0misinstance\u001b[0m\u001b[1;33m(\u001b[0m\u001b[0mactual_result\u001b[0m\u001b[1;33m,\u001b[0m \u001b[0mdict\u001b[0m\u001b[1;33m)\u001b[0m \u001b[1;32mor\u001b[0m \u001b[0mlen\u001b[0m\u001b[1;33m(\u001b[0m\u001b[0mactual_result\u001b[0m\u001b[1;33m.\u001b[0m\u001b[0mget\u001b[0m\u001b[1;33m(\u001b[0m\u001b[1;34m\"alternative\"\u001b[0m\u001b[1;33m,\u001b[0m \u001b[1;33m[\u001b[0m\u001b[1;33m]\u001b[0m\u001b[1;33m)\u001b[0m\u001b[1;33m)\u001b[0m \u001b[1;33m==\u001b[0m \u001b[1;36m0\u001b[0m\u001b[1;33m:\u001b[0m \u001b[1;32mraise\u001b[0m \u001b[0mUnknownValueError\u001b[0m\u001b[1;33m(\u001b[0m\u001b[1;33m)\u001b[0m\u001b[1;33m\u001b[0m\u001b[1;33m\u001b[0m\u001b[0m\n\u001b[0m\u001b[0;32m    859\u001b[0m \u001b[1;33m\u001b[0m\u001b[0m\n\u001b[0;32m    860\u001b[0m         \u001b[1;32mif\u001b[0m \u001b[1;34m\"confidence\"\u001b[0m \u001b[1;32min\u001b[0m \u001b[0mactual_result\u001b[0m\u001b[1;33m[\u001b[0m\u001b[1;34m\"alternative\"\u001b[0m\u001b[1;33m]\u001b[0m\u001b[1;33m:\u001b[0m\u001b[1;33m\u001b[0m\u001b[1;33m\u001b[0m\u001b[0m\n",
      "\u001b[1;31mUnknownValueError\u001b[0m: "
     ]
    }
   ],
   "source": [
    "audioQuery()"
   ]
  },
  {
   "cell_type": "markdown",
   "metadata": {},
   "source": [
    "# Speech Recognition"
   ]
  },
  {
   "cell_type": "code",
   "execution_count": 29,
   "metadata": {},
   "outputs": [
    {
     "ename": "TypeError",
     "evalue": "item 1 in _argtypes_ passes a union by value, which is unsupported.",
     "output_type": "error",
     "traceback": [
      "\u001b[1;31m---------------------------------------------------------------------------\u001b[0m",
      "\u001b[1;31mKeyError\u001b[0m                                  Traceback (most recent call last)",
      "\u001b[1;32mC:\\Anaconda3\\lib\\site-packages\\pyttsx3\\__init__.py\u001b[0m in \u001b[0;36minit\u001b[1;34m(driverName, debug)\u001b[0m\n\u001b[0;32m     19\u001b[0m     \u001b[1;32mtry\u001b[0m\u001b[1;33m:\u001b[0m\u001b[1;33m\u001b[0m\u001b[1;33m\u001b[0m\u001b[0m\n\u001b[1;32m---> 20\u001b[1;33m         \u001b[0meng\u001b[0m \u001b[1;33m=\u001b[0m \u001b[0m_activeEngines\u001b[0m\u001b[1;33m[\u001b[0m\u001b[0mdriverName\u001b[0m\u001b[1;33m]\u001b[0m\u001b[1;33m\u001b[0m\u001b[1;33m\u001b[0m\u001b[0m\n\u001b[0m\u001b[0;32m     21\u001b[0m     \u001b[1;32mexcept\u001b[0m \u001b[0mKeyError\u001b[0m\u001b[1;33m:\u001b[0m\u001b[1;33m\u001b[0m\u001b[1;33m\u001b[0m\u001b[0m\n",
      "\u001b[1;32mC:\\Anaconda3\\lib\\weakref.py\u001b[0m in \u001b[0;36m__getitem__\u001b[1;34m(self, key)\u001b[0m\n\u001b[0;32m    136\u001b[0m             \u001b[0mself\u001b[0m\u001b[1;33m.\u001b[0m\u001b[0m_commit_removals\u001b[0m\u001b[1;33m(\u001b[0m\u001b[1;33m)\u001b[0m\u001b[1;33m\u001b[0m\u001b[1;33m\u001b[0m\u001b[0m\n\u001b[1;32m--> 137\u001b[1;33m         \u001b[0mo\u001b[0m \u001b[1;33m=\u001b[0m \u001b[0mself\u001b[0m\u001b[1;33m.\u001b[0m\u001b[0mdata\u001b[0m\u001b[1;33m[\u001b[0m\u001b[0mkey\u001b[0m\u001b[1;33m]\u001b[0m\u001b[1;33m(\u001b[0m\u001b[1;33m)\u001b[0m\u001b[1;33m\u001b[0m\u001b[1;33m\u001b[0m\u001b[0m\n\u001b[0m\u001b[0;32m    138\u001b[0m         \u001b[1;32mif\u001b[0m \u001b[0mo\u001b[0m \u001b[1;32mis\u001b[0m \u001b[1;32mNone\u001b[0m\u001b[1;33m:\u001b[0m\u001b[1;33m\u001b[0m\u001b[1;33m\u001b[0m\u001b[0m\n",
      "\u001b[1;31mKeyError\u001b[0m: None",
      "\nDuring handling of the above exception, another exception occurred:\n",
      "\u001b[1;31mImportError\u001b[0m                               Traceback (most recent call last)",
      "\u001b[1;32mC:\\Anaconda3\\lib\\site-packages\\pyttsx3\\drivers\\sapi5.py\u001b[0m in \u001b[0;36m<module>\u001b[1;34m\u001b[0m\n\u001b[0;32m      2\u001b[0m \u001b[1;32mtry\u001b[0m\u001b[1;33m:\u001b[0m\u001b[1;33m\u001b[0m\u001b[1;33m\u001b[0m\u001b[0m\n\u001b[1;32m----> 3\u001b[1;33m     \u001b[1;32mfrom\u001b[0m \u001b[0mcomtypes\u001b[0m\u001b[1;33m.\u001b[0m\u001b[0mgen\u001b[0m \u001b[1;32mimport\u001b[0m \u001b[0mSpeechLib\u001b[0m  \u001b[1;31m# comtypes\u001b[0m\u001b[1;33m\u001b[0m\u001b[1;33m\u001b[0m\u001b[0m\n\u001b[0m\u001b[0;32m      4\u001b[0m \u001b[1;32mexcept\u001b[0m \u001b[0mImportError\u001b[0m\u001b[1;33m:\u001b[0m\u001b[1;33m\u001b[0m\u001b[1;33m\u001b[0m\u001b[0m\n",
      "\u001b[1;31mImportError\u001b[0m: cannot import name 'SpeechLib' from 'comtypes.gen' (C:\\Anaconda3\\lib\\site-packages\\comtypes\\gen\\__init__.py)",
      "\nDuring handling of the above exception, another exception occurred:\n",
      "\u001b[1;31mKeyError\u001b[0m                                  Traceback (most recent call last)",
      "\u001b[1;32mC:\\Anaconda3\\lib\\ctypes\\__init__.py\u001b[0m in \u001b[0;36mWINFUNCTYPE\u001b[1;34m(restype, *argtypes, **kw)\u001b[0m\n\u001b[0;32m    120\u001b[0m         \u001b[1;32mtry\u001b[0m\u001b[1;33m:\u001b[0m\u001b[1;33m\u001b[0m\u001b[1;33m\u001b[0m\u001b[0m\n\u001b[1;32m--> 121\u001b[1;33m             \u001b[1;32mreturn\u001b[0m \u001b[0m_win_functype_cache\u001b[0m\u001b[1;33m[\u001b[0m\u001b[1;33m(\u001b[0m\u001b[0mrestype\u001b[0m\u001b[1;33m,\u001b[0m \u001b[0margtypes\u001b[0m\u001b[1;33m,\u001b[0m \u001b[0mflags\u001b[0m\u001b[1;33m)\u001b[0m\u001b[1;33m]\u001b[0m\u001b[1;33m\u001b[0m\u001b[1;33m\u001b[0m\u001b[0m\n\u001b[0m\u001b[0;32m    122\u001b[0m         \u001b[1;32mexcept\u001b[0m \u001b[0mKeyError\u001b[0m\u001b[1;33m:\u001b[0m\u001b[1;33m\u001b[0m\u001b[1;33m\u001b[0m\u001b[0m\n",
      "\u001b[1;31mKeyError\u001b[0m: (<class 'ctypes.HRESULT'>, (<class 'comtypes.automation.tagVARIANT'>, <class 'ctypes.wintypes.LP_c_long'>), 0)",
      "\nDuring handling of the above exception, another exception occurred:\n",
      "\u001b[1;31mTypeError\u001b[0m                                 Traceback (most recent call last)",
      "\u001b[1;32m<ipython-input-29-b7af2b2def9f>\u001b[0m in \u001b[0;36m<module>\u001b[1;34m\u001b[0m\n\u001b[0;32m      1\u001b[0m \u001b[1;32mimport\u001b[0m \u001b[0mpyttsx3\u001b[0m \u001b[1;32mas\u001b[0m \u001b[0mpp\u001b[0m\u001b[1;33m\u001b[0m\u001b[1;33m\u001b[0m\u001b[0m\n\u001b[1;32m----> 2\u001b[1;33m \u001b[0mengine\u001b[0m\u001b[1;33m=\u001b[0m\u001b[0mpp\u001b[0m\u001b[1;33m.\u001b[0m\u001b[0minit\u001b[0m\u001b[1;33m(\u001b[0m\u001b[1;33m)\u001b[0m\u001b[1;33m\u001b[0m\u001b[1;33m\u001b[0m\u001b[0m\n\u001b[0m\u001b[0;32m      3\u001b[0m \u001b[0mvoices\u001b[0m\u001b[1;33m=\u001b[0m\u001b[0mengine\u001b[0m\u001b[1;33m.\u001b[0m\u001b[0mgetProperty\u001b[0m\u001b[1;33m(\u001b[0m\u001b[1;34m'voices'\u001b[0m\u001b[1;33m)\u001b[0m\u001b[1;33m\u001b[0m\u001b[1;33m\u001b[0m\u001b[0m\n\u001b[0;32m      4\u001b[0m \u001b[0mprint\u001b[0m\u001b[1;33m(\u001b[0m\u001b[0mvoices\u001b[0m\u001b[1;33m)\u001b[0m\u001b[1;33m\u001b[0m\u001b[1;33m\u001b[0m\u001b[0m\n",
      "\u001b[1;32mC:\\Anaconda3\\lib\\site-packages\\pyttsx3\\__init__.py\u001b[0m in \u001b[0;36minit\u001b[1;34m(driverName, debug)\u001b[0m\n\u001b[0;32m     20\u001b[0m         \u001b[0meng\u001b[0m \u001b[1;33m=\u001b[0m \u001b[0m_activeEngines\u001b[0m\u001b[1;33m[\u001b[0m\u001b[0mdriverName\u001b[0m\u001b[1;33m]\u001b[0m\u001b[1;33m\u001b[0m\u001b[1;33m\u001b[0m\u001b[0m\n\u001b[0;32m     21\u001b[0m     \u001b[1;32mexcept\u001b[0m \u001b[0mKeyError\u001b[0m\u001b[1;33m:\u001b[0m\u001b[1;33m\u001b[0m\u001b[1;33m\u001b[0m\u001b[0m\n\u001b[1;32m---> 22\u001b[1;33m         \u001b[0meng\u001b[0m \u001b[1;33m=\u001b[0m \u001b[0mEngine\u001b[0m\u001b[1;33m(\u001b[0m\u001b[0mdriverName\u001b[0m\u001b[1;33m,\u001b[0m \u001b[0mdebug\u001b[0m\u001b[1;33m)\u001b[0m\u001b[1;33m\u001b[0m\u001b[1;33m\u001b[0m\u001b[0m\n\u001b[0m\u001b[0;32m     23\u001b[0m         \u001b[0m_activeEngines\u001b[0m\u001b[1;33m[\u001b[0m\u001b[0mdriverName\u001b[0m\u001b[1;33m]\u001b[0m \u001b[1;33m=\u001b[0m \u001b[0meng\u001b[0m\u001b[1;33m\u001b[0m\u001b[1;33m\u001b[0m\u001b[0m\n\u001b[0;32m     24\u001b[0m     \u001b[1;32mreturn\u001b[0m \u001b[0meng\u001b[0m\u001b[1;33m\u001b[0m\u001b[1;33m\u001b[0m\u001b[0m\n",
      "\u001b[1;32mC:\\Anaconda3\\lib\\site-packages\\pyttsx3\\engine.py\u001b[0m in \u001b[0;36m__init__\u001b[1;34m(self, driverName, debug)\u001b[0m\n\u001b[0;32m     28\u001b[0m         \u001b[1;33m@\u001b[0m\u001b[0mtype\u001b[0m \u001b[0mdebug\u001b[0m\u001b[1;33m:\u001b[0m \u001b[0mbool\u001b[0m\u001b[1;33m\u001b[0m\u001b[1;33m\u001b[0m\u001b[0m\n\u001b[0;32m     29\u001b[0m         \"\"\"\n\u001b[1;32m---> 30\u001b[1;33m         \u001b[0mself\u001b[0m\u001b[1;33m.\u001b[0m\u001b[0mproxy\u001b[0m \u001b[1;33m=\u001b[0m \u001b[0mdriver\u001b[0m\u001b[1;33m.\u001b[0m\u001b[0mDriverProxy\u001b[0m\u001b[1;33m(\u001b[0m\u001b[0mweakref\u001b[0m\u001b[1;33m.\u001b[0m\u001b[0mproxy\u001b[0m\u001b[1;33m(\u001b[0m\u001b[0mself\u001b[0m\u001b[1;33m)\u001b[0m\u001b[1;33m,\u001b[0m \u001b[0mdriverName\u001b[0m\u001b[1;33m,\u001b[0m \u001b[0mdebug\u001b[0m\u001b[1;33m)\u001b[0m\u001b[1;33m\u001b[0m\u001b[1;33m\u001b[0m\u001b[0m\n\u001b[0m\u001b[0;32m     31\u001b[0m         \u001b[1;31m# initialize other vars\u001b[0m\u001b[1;33m\u001b[0m\u001b[1;33m\u001b[0m\u001b[1;33m\u001b[0m\u001b[0m\n\u001b[0;32m     32\u001b[0m         \u001b[0mself\u001b[0m\u001b[1;33m.\u001b[0m\u001b[0m_connects\u001b[0m \u001b[1;33m=\u001b[0m \u001b[1;33m{\u001b[0m\u001b[1;33m}\u001b[0m\u001b[1;33m\u001b[0m\u001b[1;33m\u001b[0m\u001b[0m\n",
      "\u001b[1;32mC:\\Anaconda3\\lib\\site-packages\\pyttsx3\\driver.py\u001b[0m in \u001b[0;36m__init__\u001b[1;34m(self, engine, driverName, debug)\u001b[0m\n\u001b[0;32m     48\u001b[0m         \u001b[1;31m# import driver module\u001b[0m\u001b[1;33m\u001b[0m\u001b[1;33m\u001b[0m\u001b[1;33m\u001b[0m\u001b[0m\n\u001b[0;32m     49\u001b[0m         \u001b[0mname\u001b[0m \u001b[1;33m=\u001b[0m \u001b[1;34m'pyttsx3.drivers.%s'\u001b[0m \u001b[1;33m%\u001b[0m \u001b[0mdriverName\u001b[0m\u001b[1;33m\u001b[0m\u001b[1;33m\u001b[0m\u001b[0m\n\u001b[1;32m---> 50\u001b[1;33m         \u001b[0mself\u001b[0m\u001b[1;33m.\u001b[0m\u001b[0m_module\u001b[0m \u001b[1;33m=\u001b[0m \u001b[0mimportlib\u001b[0m\u001b[1;33m.\u001b[0m\u001b[0mimport_module\u001b[0m\u001b[1;33m(\u001b[0m\u001b[0mname\u001b[0m\u001b[1;33m)\u001b[0m\u001b[1;33m\u001b[0m\u001b[1;33m\u001b[0m\u001b[0m\n\u001b[0m\u001b[0;32m     51\u001b[0m         \u001b[1;31m# build driver instance\u001b[0m\u001b[1;33m\u001b[0m\u001b[1;33m\u001b[0m\u001b[1;33m\u001b[0m\u001b[0m\n\u001b[0;32m     52\u001b[0m         \u001b[0mself\u001b[0m\u001b[1;33m.\u001b[0m\u001b[0m_driver\u001b[0m \u001b[1;33m=\u001b[0m \u001b[0mself\u001b[0m\u001b[1;33m.\u001b[0m\u001b[0m_module\u001b[0m\u001b[1;33m.\u001b[0m\u001b[0mbuildDriver\u001b[0m\u001b[1;33m(\u001b[0m\u001b[0mweakref\u001b[0m\u001b[1;33m.\u001b[0m\u001b[0mproxy\u001b[0m\u001b[1;33m(\u001b[0m\u001b[0mself\u001b[0m\u001b[1;33m)\u001b[0m\u001b[1;33m)\u001b[0m\u001b[1;33m\u001b[0m\u001b[1;33m\u001b[0m\u001b[0m\n",
      "\u001b[1;32mC:\\Anaconda3\\lib\\importlib\\__init__.py\u001b[0m in \u001b[0;36mimport_module\u001b[1;34m(name, package)\u001b[0m\n\u001b[0;32m    125\u001b[0m                 \u001b[1;32mbreak\u001b[0m\u001b[1;33m\u001b[0m\u001b[1;33m\u001b[0m\u001b[0m\n\u001b[0;32m    126\u001b[0m             \u001b[0mlevel\u001b[0m \u001b[1;33m+=\u001b[0m \u001b[1;36m1\u001b[0m\u001b[1;33m\u001b[0m\u001b[1;33m\u001b[0m\u001b[0m\n\u001b[1;32m--> 127\u001b[1;33m     \u001b[1;32mreturn\u001b[0m \u001b[0m_bootstrap\u001b[0m\u001b[1;33m.\u001b[0m\u001b[0m_gcd_import\u001b[0m\u001b[1;33m(\u001b[0m\u001b[0mname\u001b[0m\u001b[1;33m[\u001b[0m\u001b[0mlevel\u001b[0m\u001b[1;33m:\u001b[0m\u001b[1;33m]\u001b[0m\u001b[1;33m,\u001b[0m \u001b[0mpackage\u001b[0m\u001b[1;33m,\u001b[0m \u001b[0mlevel\u001b[0m\u001b[1;33m)\u001b[0m\u001b[1;33m\u001b[0m\u001b[1;33m\u001b[0m\u001b[0m\n\u001b[0m\u001b[0;32m    128\u001b[0m \u001b[1;33m\u001b[0m\u001b[0m\n\u001b[0;32m    129\u001b[0m \u001b[1;33m\u001b[0m\u001b[0m\n",
      "\u001b[1;32mC:\\Anaconda3\\lib\\importlib\\_bootstrap.py\u001b[0m in \u001b[0;36m_gcd_import\u001b[1;34m(name, package, level)\u001b[0m\n",
      "\u001b[1;32mC:\\Anaconda3\\lib\\importlib\\_bootstrap.py\u001b[0m in \u001b[0;36m_find_and_load\u001b[1;34m(name, import_)\u001b[0m\n",
      "\u001b[1;32mC:\\Anaconda3\\lib\\importlib\\_bootstrap.py\u001b[0m in \u001b[0;36m_find_and_load_unlocked\u001b[1;34m(name, import_)\u001b[0m\n",
      "\u001b[1;32mC:\\Anaconda3\\lib\\importlib\\_bootstrap.py\u001b[0m in \u001b[0;36m_load_unlocked\u001b[1;34m(spec)\u001b[0m\n",
      "\u001b[1;32mC:\\Anaconda3\\lib\\importlib\\_bootstrap_external.py\u001b[0m in \u001b[0;36mexec_module\u001b[1;34m(self, module)\u001b[0m\n",
      "\u001b[1;32mC:\\Anaconda3\\lib\\importlib\\_bootstrap.py\u001b[0m in \u001b[0;36m_call_with_frames_removed\u001b[1;34m(f, *args, **kwds)\u001b[0m\n",
      "\u001b[1;32mC:\\Anaconda3\\lib\\site-packages\\pyttsx3\\drivers\\sapi5.py\u001b[0m in \u001b[0;36m<module>\u001b[1;34m\u001b[0m\n\u001b[0;32m      4\u001b[0m \u001b[1;32mexcept\u001b[0m \u001b[0mImportError\u001b[0m\u001b[1;33m:\u001b[0m\u001b[1;33m\u001b[0m\u001b[1;33m\u001b[0m\u001b[0m\n\u001b[0;32m      5\u001b[0m     \u001b[1;31m# Generate the SpeechLib lib and any associated files\u001b[0m\u001b[1;33m\u001b[0m\u001b[1;33m\u001b[0m\u001b[1;33m\u001b[0m\u001b[0m\n\u001b[1;32m----> 6\u001b[1;33m     \u001b[0mengine\u001b[0m \u001b[1;33m=\u001b[0m \u001b[0mcomtypes\u001b[0m\u001b[1;33m.\u001b[0m\u001b[0mclient\u001b[0m\u001b[1;33m.\u001b[0m\u001b[0mCreateObject\u001b[0m\u001b[1;33m(\u001b[0m\u001b[1;34m\"SAPI.SpVoice\"\u001b[0m\u001b[1;33m)\u001b[0m\u001b[1;33m\u001b[0m\u001b[1;33m\u001b[0m\u001b[0m\n\u001b[0m\u001b[0;32m      7\u001b[0m     \u001b[0mstream\u001b[0m \u001b[1;33m=\u001b[0m \u001b[0mcomtypes\u001b[0m\u001b[1;33m.\u001b[0m\u001b[0mclient\u001b[0m\u001b[1;33m.\u001b[0m\u001b[0mCreateObject\u001b[0m\u001b[1;33m(\u001b[0m\u001b[1;34m\"SAPI.SpFileStream\"\u001b[0m\u001b[1;33m)\u001b[0m\u001b[1;33m\u001b[0m\u001b[1;33m\u001b[0m\u001b[0m\n\u001b[0;32m      8\u001b[0m     \u001b[1;32mfrom\u001b[0m \u001b[0mcomtypes\u001b[0m\u001b[1;33m.\u001b[0m\u001b[0mgen\u001b[0m \u001b[1;32mimport\u001b[0m \u001b[0mSpeechLib\u001b[0m\u001b[1;33m\u001b[0m\u001b[1;33m\u001b[0m\u001b[0m\n",
      "\u001b[1;32mC:\\Anaconda3\\lib\\site-packages\\comtypes\\client\\__init__.py\u001b[0m in \u001b[0;36mCreateObject\u001b[1;34m(progid, clsctx, machine, interface, dynamic, pServerInfo)\u001b[0m\n\u001b[0;32m    248\u001b[0m     \u001b[1;32mif\u001b[0m \u001b[0mdynamic\u001b[0m\u001b[1;33m:\u001b[0m\u001b[1;33m\u001b[0m\u001b[1;33m\u001b[0m\u001b[0m\n\u001b[0;32m    249\u001b[0m         \u001b[1;32mreturn\u001b[0m \u001b[0mcomtypes\u001b[0m\u001b[1;33m.\u001b[0m\u001b[0mclient\u001b[0m\u001b[1;33m.\u001b[0m\u001b[0mdynamic\u001b[0m\u001b[1;33m.\u001b[0m\u001b[0mDispatch\u001b[0m\u001b[1;33m(\u001b[0m\u001b[0mobj\u001b[0m\u001b[1;33m)\u001b[0m\u001b[1;33m\u001b[0m\u001b[1;33m\u001b[0m\u001b[0m\n\u001b[1;32m--> 250\u001b[1;33m     \u001b[1;32mreturn\u001b[0m \u001b[0m_manage\u001b[0m\u001b[1;33m(\u001b[0m\u001b[0mobj\u001b[0m\u001b[1;33m,\u001b[0m \u001b[0mclsid\u001b[0m\u001b[1;33m,\u001b[0m \u001b[0minterface\u001b[0m\u001b[1;33m=\u001b[0m\u001b[0minterface\u001b[0m\u001b[1;33m)\u001b[0m\u001b[1;33m\u001b[0m\u001b[1;33m\u001b[0m\u001b[0m\n\u001b[0m\u001b[0;32m    251\u001b[0m \u001b[1;33m\u001b[0m\u001b[0m\n\u001b[0;32m    252\u001b[0m \u001b[1;32mdef\u001b[0m \u001b[0mCoGetObject\u001b[0m\u001b[1;33m(\u001b[0m\u001b[0mdisplayname\u001b[0m\u001b[1;33m,\u001b[0m \u001b[0minterface\u001b[0m\u001b[1;33m=\u001b[0m\u001b[1;32mNone\u001b[0m\u001b[1;33m,\u001b[0m \u001b[0mdynamic\u001b[0m\u001b[1;33m=\u001b[0m\u001b[1;32mFalse\u001b[0m\u001b[1;33m)\u001b[0m\u001b[1;33m:\u001b[0m\u001b[1;33m\u001b[0m\u001b[1;33m\u001b[0m\u001b[0m\n",
      "\u001b[1;32mC:\\Anaconda3\\lib\\site-packages\\comtypes\\client\\__init__.py\u001b[0m in \u001b[0;36m_manage\u001b[1;34m(obj, clsid, interface)\u001b[0m\n\u001b[0;32m    186\u001b[0m     \u001b[0mobj\u001b[0m\u001b[1;33m.\u001b[0m\u001b[0m__dict__\u001b[0m\u001b[1;33m[\u001b[0m\u001b[1;34m'__clsid'\u001b[0m\u001b[1;33m]\u001b[0m \u001b[1;33m=\u001b[0m \u001b[0mstr\u001b[0m\u001b[1;33m(\u001b[0m\u001b[0mclsid\u001b[0m\u001b[1;33m)\u001b[0m\u001b[1;33m\u001b[0m\u001b[1;33m\u001b[0m\u001b[0m\n\u001b[0;32m    187\u001b[0m     \u001b[1;32mif\u001b[0m \u001b[0minterface\u001b[0m \u001b[1;32mis\u001b[0m \u001b[1;32mNone\u001b[0m\u001b[1;33m:\u001b[0m\u001b[1;33m\u001b[0m\u001b[1;33m\u001b[0m\u001b[0m\n\u001b[1;32m--> 188\u001b[1;33m         \u001b[0mobj\u001b[0m \u001b[1;33m=\u001b[0m \u001b[0mGetBestInterface\u001b[0m\u001b[1;33m(\u001b[0m\u001b[0mobj\u001b[0m\u001b[1;33m)\u001b[0m\u001b[1;33m\u001b[0m\u001b[1;33m\u001b[0m\u001b[0m\n\u001b[0m\u001b[0;32m    189\u001b[0m     \u001b[1;32mreturn\u001b[0m \u001b[0mobj\u001b[0m\u001b[1;33m\u001b[0m\u001b[1;33m\u001b[0m\u001b[0m\n\u001b[0;32m    190\u001b[0m \u001b[1;33m\u001b[0m\u001b[0m\n",
      "\u001b[1;32mC:\\Anaconda3\\lib\\site-packages\\comtypes\\client\\__init__.py\u001b[0m in \u001b[0;36mGetBestInterface\u001b[1;34m(punk)\u001b[0m\n\u001b[0;32m    108\u001b[0m \u001b[1;33m\u001b[0m\u001b[0m\n\u001b[0;32m    109\u001b[0m     \u001b[1;31m# import the wrapper, generating it on demand\u001b[0m\u001b[1;33m\u001b[0m\u001b[1;33m\u001b[0m\u001b[1;33m\u001b[0m\u001b[0m\n\u001b[1;32m--> 110\u001b[1;33m     \u001b[0mmod\u001b[0m \u001b[1;33m=\u001b[0m \u001b[0mGetModule\u001b[0m\u001b[1;33m(\u001b[0m\u001b[0mtlib\u001b[0m\u001b[1;33m)\u001b[0m\u001b[1;33m\u001b[0m\u001b[1;33m\u001b[0m\u001b[0m\n\u001b[0m\u001b[0;32m    111\u001b[0m     \u001b[1;31m# Python interface class\u001b[0m\u001b[1;33m\u001b[0m\u001b[1;33m\u001b[0m\u001b[1;33m\u001b[0m\u001b[0m\n\u001b[0;32m    112\u001b[0m     \u001b[0minterface\u001b[0m \u001b[1;33m=\u001b[0m \u001b[0mgetattr\u001b[0m\u001b[1;33m(\u001b[0m\u001b[0mmod\u001b[0m\u001b[1;33m,\u001b[0m \u001b[0mitf_name\u001b[0m\u001b[1;33m)\u001b[0m\u001b[1;33m\u001b[0m\u001b[1;33m\u001b[0m\u001b[0m\n",
      "\u001b[1;32mC:\\Anaconda3\\lib\\site-packages\\comtypes\\client\\_generate.py\u001b[0m in \u001b[0;36mGetModule\u001b[1;34m(tlib)\u001b[0m\n\u001b[0;32m    108\u001b[0m \u001b[1;33m\u001b[0m\u001b[0m\n\u001b[0;32m    109\u001b[0m     \u001b[1;31m# create and import the module\u001b[0m\u001b[1;33m\u001b[0m\u001b[1;33m\u001b[0m\u001b[1;33m\u001b[0m\u001b[0m\n\u001b[1;32m--> 110\u001b[1;33m     \u001b[0mmod\u001b[0m \u001b[1;33m=\u001b[0m \u001b[0m_CreateWrapper\u001b[0m\u001b[1;33m(\u001b[0m\u001b[0mtlib\u001b[0m\u001b[1;33m,\u001b[0m \u001b[0mpathname\u001b[0m\u001b[1;33m)\u001b[0m\u001b[1;33m\u001b[0m\u001b[1;33m\u001b[0m\u001b[0m\n\u001b[0m\u001b[0;32m    111\u001b[0m     \u001b[1;32mtry\u001b[0m\u001b[1;33m:\u001b[0m\u001b[1;33m\u001b[0m\u001b[1;33m\u001b[0m\u001b[0m\n\u001b[0;32m    112\u001b[0m         \u001b[0mmodulename\u001b[0m \u001b[1;33m=\u001b[0m \u001b[0mtlib\u001b[0m\u001b[1;33m.\u001b[0m\u001b[0mGetDocumentation\u001b[0m\u001b[1;33m(\u001b[0m\u001b[1;33m-\u001b[0m\u001b[1;36m1\u001b[0m\u001b[1;33m)\u001b[0m\u001b[1;33m[\u001b[0m\u001b[1;36m0\u001b[0m\u001b[1;33m]\u001b[0m\u001b[1;33m\u001b[0m\u001b[1;33m\u001b[0m\u001b[0m\n",
      "\u001b[1;32mC:\\Anaconda3\\lib\\site-packages\\comtypes\\client\\_generate.py\u001b[0m in \u001b[0;36m_CreateWrapper\u001b[1;34m(tlib, pathname)\u001b[0m\n\u001b[0;32m    182\u001b[0m     \u001b[1;32melse\u001b[0m\u001b[1;33m:\u001b[0m\u001b[1;33m\u001b[0m\u001b[1;33m\u001b[0m\u001b[0m\n\u001b[0;32m    183\u001b[0m         \u001b[0mofi\u001b[0m\u001b[1;33m.\u001b[0m\u001b[0mclose\u001b[0m\u001b[1;33m(\u001b[0m\u001b[1;33m)\u001b[0m\u001b[1;33m\u001b[0m\u001b[1;33m\u001b[0m\u001b[0m\n\u001b[1;32m--> 184\u001b[1;33m         \u001b[0mmod\u001b[0m \u001b[1;33m=\u001b[0m \u001b[0m_my_import\u001b[0m\u001b[1;33m(\u001b[0m\u001b[0mfullname\u001b[0m\u001b[1;33m)\u001b[0m\u001b[1;33m\u001b[0m\u001b[1;33m\u001b[0m\u001b[0m\n\u001b[0m\u001b[0;32m    185\u001b[0m     \u001b[1;32mreturn\u001b[0m \u001b[0mmod\u001b[0m\u001b[1;33m\u001b[0m\u001b[1;33m\u001b[0m\u001b[0m\n\u001b[0;32m    186\u001b[0m \u001b[1;33m\u001b[0m\u001b[0m\n",
      "\u001b[1;32mC:\\Anaconda3\\lib\\site-packages\\comtypes\\client\\_generate.py\u001b[0m in \u001b[0;36m_my_import\u001b[1;34m(fullname)\u001b[0m\n\u001b[0;32m     22\u001b[0m            \u001b[1;32mand\u001b[0m \u001b[0mcomtypes\u001b[0m\u001b[1;33m.\u001b[0m\u001b[0mclient\u001b[0m\u001b[1;33m.\u001b[0m\u001b[0mgen_dir\u001b[0m \u001b[1;32mnot\u001b[0m \u001b[1;32min\u001b[0m \u001b[0mcomtypes\u001b[0m\u001b[1;33m.\u001b[0m\u001b[0mgen\u001b[0m\u001b[1;33m.\u001b[0m\u001b[0m__path__\u001b[0m\u001b[1;33m:\u001b[0m\u001b[1;33m\u001b[0m\u001b[1;33m\u001b[0m\u001b[0m\n\u001b[0;32m     23\u001b[0m         \u001b[0mcomtypes\u001b[0m\u001b[1;33m.\u001b[0m\u001b[0mgen\u001b[0m\u001b[1;33m.\u001b[0m\u001b[0m__path__\u001b[0m\u001b[1;33m.\u001b[0m\u001b[0mappend\u001b[0m\u001b[1;33m(\u001b[0m\u001b[0mcomtypes\u001b[0m\u001b[1;33m.\u001b[0m\u001b[0mclient\u001b[0m\u001b[1;33m.\u001b[0m\u001b[0mgen_dir\u001b[0m\u001b[1;33m)\u001b[0m\u001b[1;33m\u001b[0m\u001b[1;33m\u001b[0m\u001b[0m\n\u001b[1;32m---> 24\u001b[1;33m     \u001b[1;32mreturn\u001b[0m \u001b[0m__import__\u001b[0m\u001b[1;33m(\u001b[0m\u001b[0mfullname\u001b[0m\u001b[1;33m,\u001b[0m \u001b[0mglobals\u001b[0m\u001b[1;33m(\u001b[0m\u001b[1;33m)\u001b[0m\u001b[1;33m,\u001b[0m \u001b[0mlocals\u001b[0m\u001b[1;33m(\u001b[0m\u001b[1;33m)\u001b[0m\u001b[1;33m,\u001b[0m \u001b[1;33m[\u001b[0m\u001b[1;34m'DUMMY'\u001b[0m\u001b[1;33m]\u001b[0m\u001b[1;33m)\u001b[0m\u001b[1;33m\u001b[0m\u001b[1;33m\u001b[0m\u001b[0m\n\u001b[0m\u001b[0;32m     25\u001b[0m \u001b[1;33m\u001b[0m\u001b[0m\n\u001b[0;32m     26\u001b[0m \u001b[1;32mdef\u001b[0m \u001b[0m_name_module\u001b[0m\u001b[1;33m(\u001b[0m\u001b[0mtlib\u001b[0m\u001b[1;33m)\u001b[0m\u001b[1;33m:\u001b[0m\u001b[1;33m\u001b[0m\u001b[1;33m\u001b[0m\u001b[0m\n",
      "\u001b[1;32mC:\\Anaconda3\\lib\\site-packages\\comtypes\\gen\\_C866CA3A_32F7_11D2_9602_00C04F8EE628_0_5_4.py\u001b[0m in \u001b[0;36m<module>\u001b[1;34m\u001b[0m\n\u001b[0;32m   1550\u001b[0m               \u001b[1;33m(\u001b[0m \u001b[1;33m[\u001b[0m\u001b[1;34m'in'\u001b[0m\u001b[1;33m]\u001b[0m\u001b[1;33m,\u001b[0m \u001b[0mVARIANT\u001b[0m\u001b[1;33m,\u001b[0m \u001b[1;34m'Position'\u001b[0m \u001b[1;33m)\u001b[0m\u001b[1;33m,\u001b[0m\u001b[1;33m\u001b[0m\u001b[1;33m\u001b[0m\u001b[0m\n\u001b[0;32m   1551\u001b[0m               \u001b[1;33m(\u001b[0m \u001b[1;33m[\u001b[0m\u001b[1;34m'in'\u001b[0m\u001b[1;33m,\u001b[0m \u001b[1;34m'optional'\u001b[0m\u001b[1;33m]\u001b[0m\u001b[1;33m,\u001b[0m \u001b[0mSpeechStreamSeekPositionType\u001b[0m\u001b[1;33m,\u001b[0m \u001b[1;34m'Origin'\u001b[0m\u001b[1;33m,\u001b[0m \u001b[1;36m0\u001b[0m \u001b[1;33m)\u001b[0m\u001b[1;33m,\u001b[0m\u001b[1;33m\u001b[0m\u001b[1;33m\u001b[0m\u001b[0m\n\u001b[1;32m-> 1552\u001b[1;33m               ( ['out', 'retval'], POINTER(VARIANT), 'NewPosition' )),\n\u001b[0m\u001b[0;32m   1553\u001b[0m ]\n\u001b[0;32m   1554\u001b[0m \u001b[1;31m################################################################\u001b[0m\u001b[1;33m\u001b[0m\u001b[1;33m\u001b[0m\u001b[1;33m\u001b[0m\u001b[0m\n",
      "\u001b[1;32mC:\\Anaconda3\\lib\\site-packages\\comtypes\\__init__.py\u001b[0m in \u001b[0;36m__setattr__\u001b[1;34m(self, name, value)\u001b[0m\n\u001b[0;32m    327\u001b[0m             \u001b[1;31m# overrides this by \"Interface._methods_ = [...]\u001b[0m\u001b[1;33m\u001b[0m\u001b[1;33m\u001b[0m\u001b[1;33m\u001b[0m\u001b[0m\n\u001b[0;32m    328\u001b[0m \u001b[1;31m##            assert self.__dict__.get(\"_methods_\", None) is None\u001b[0m\u001b[1;33m\u001b[0m\u001b[1;33m\u001b[0m\u001b[1;33m\u001b[0m\u001b[0m\n\u001b[1;32m--> 329\u001b[1;33m             \u001b[0mself\u001b[0m\u001b[1;33m.\u001b[0m\u001b[0m_make_methods\u001b[0m\u001b[1;33m(\u001b[0m\u001b[0mvalue\u001b[0m\u001b[1;33m)\u001b[0m\u001b[1;33m\u001b[0m\u001b[1;33m\u001b[0m\u001b[0m\n\u001b[0m\u001b[0;32m    330\u001b[0m             \u001b[0mself\u001b[0m\u001b[1;33m.\u001b[0m\u001b[0m_make_specials\u001b[0m\u001b[1;33m(\u001b[0m\u001b[1;33m)\u001b[0m\u001b[1;33m\u001b[0m\u001b[1;33m\u001b[0m\u001b[0m\n\u001b[0;32m    331\u001b[0m         \u001b[1;32melif\u001b[0m \u001b[0mname\u001b[0m \u001b[1;33m==\u001b[0m \u001b[1;34m\"_disp_methods_\"\u001b[0m\u001b[1;33m:\u001b[0m\u001b[1;33m\u001b[0m\u001b[1;33m\u001b[0m\u001b[0m\n",
      "\u001b[1;32mC:\\Anaconda3\\lib\\site-packages\\comtypes\\__init__.py\u001b[0m in \u001b[0;36m_make_methods\u001b[1;34m(self, methods)\u001b[0m\n\u001b[0;32m    696\u001b[0m             \u001b[0mrestype\u001b[0m\u001b[1;33m,\u001b[0m \u001b[0mname\u001b[0m\u001b[1;33m,\u001b[0m \u001b[0margtypes\u001b[0m\u001b[1;33m,\u001b[0m \u001b[0mparamflags\u001b[0m\u001b[1;33m,\u001b[0m \u001b[0midlflags\u001b[0m\u001b[1;33m,\u001b[0m \u001b[0mdoc\u001b[0m \u001b[1;33m=\u001b[0m \u001b[0mitem\u001b[0m\u001b[1;33m\u001b[0m\u001b[1;33m\u001b[0m\u001b[0m\n\u001b[0;32m    697\u001b[0m             \u001b[1;31m# the function prototype\u001b[0m\u001b[1;33m\u001b[0m\u001b[1;33m\u001b[0m\u001b[1;33m\u001b[0m\u001b[0m\n\u001b[1;32m--> 698\u001b[1;33m             \u001b[0mprototype\u001b[0m \u001b[1;33m=\u001b[0m \u001b[0mWINFUNCTYPE\u001b[0m\u001b[1;33m(\u001b[0m\u001b[0mrestype\u001b[0m\u001b[1;33m,\u001b[0m \u001b[1;33m*\u001b[0m\u001b[0margtypes\u001b[0m\u001b[1;33m)\u001b[0m\u001b[1;33m\u001b[0m\u001b[1;33m\u001b[0m\u001b[0m\n\u001b[0m\u001b[0;32m    699\u001b[0m \u001b[1;33m\u001b[0m\u001b[0m\n\u001b[0;32m    700\u001b[0m             \u001b[1;31m# a low level unbound method calling the com method.\u001b[0m\u001b[1;33m\u001b[0m\u001b[1;33m\u001b[0m\u001b[1;33m\u001b[0m\u001b[0m\n",
      "\u001b[1;32mC:\\Anaconda3\\lib\\ctypes\\__init__.py\u001b[0m in \u001b[0;36mWINFUNCTYPE\u001b[1;34m(restype, *argtypes, **kw)\u001b[0m\n\u001b[0;32m    121\u001b[0m             \u001b[1;32mreturn\u001b[0m \u001b[0m_win_functype_cache\u001b[0m\u001b[1;33m[\u001b[0m\u001b[1;33m(\u001b[0m\u001b[0mrestype\u001b[0m\u001b[1;33m,\u001b[0m \u001b[0margtypes\u001b[0m\u001b[1;33m,\u001b[0m \u001b[0mflags\u001b[0m\u001b[1;33m)\u001b[0m\u001b[1;33m]\u001b[0m\u001b[1;33m\u001b[0m\u001b[1;33m\u001b[0m\u001b[0m\n\u001b[0;32m    122\u001b[0m         \u001b[1;32mexcept\u001b[0m \u001b[0mKeyError\u001b[0m\u001b[1;33m:\u001b[0m\u001b[1;33m\u001b[0m\u001b[1;33m\u001b[0m\u001b[0m\n\u001b[1;32m--> 123\u001b[1;33m             \u001b[1;32mclass\u001b[0m \u001b[0mWinFunctionType\u001b[0m\u001b[1;33m(\u001b[0m\u001b[0m_CFuncPtr\u001b[0m\u001b[1;33m)\u001b[0m\u001b[1;33m:\u001b[0m\u001b[1;33m\u001b[0m\u001b[1;33m\u001b[0m\u001b[0m\n\u001b[0m\u001b[0;32m    124\u001b[0m                 \u001b[0m_argtypes_\u001b[0m \u001b[1;33m=\u001b[0m \u001b[0margtypes\u001b[0m\u001b[1;33m\u001b[0m\u001b[1;33m\u001b[0m\u001b[0m\n\u001b[0;32m    125\u001b[0m                 \u001b[0m_restype_\u001b[0m \u001b[1;33m=\u001b[0m \u001b[0mrestype\u001b[0m\u001b[1;33m\u001b[0m\u001b[1;33m\u001b[0m\u001b[0m\n",
      "\u001b[1;31mTypeError\u001b[0m: item 1 in _argtypes_ passes a union by value, which is unsupported."
     ]
    }
   ],
   "source": [
    "import pyttsx3 as pp\n",
    "engine=pp.init()\n",
    "voices=engine.getProperty('voices')\n",
    "print(voices)"
   ]
  },
  {
   "cell_type": "code",
   "execution_count": 1,
   "metadata": {},
   "outputs": [
    {
     "ename": "NameError",
     "evalue": "name 'engine' is not defined",
     "output_type": "error",
     "traceback": [
      "\u001b[1;31m---------------------------------------------------------------------------\u001b[0m",
      "\u001b[1;31mNameError\u001b[0m                                 Traceback (most recent call last)",
      "\u001b[1;32m<ipython-input-1-0af8f424eded>\u001b[0m in \u001b[0;36m<module>\u001b[1;34m\u001b[0m\n\u001b[1;32m----> 1\u001b[1;33m \u001b[0mengine\u001b[0m\u001b[1;33m.\u001b[0m\u001b[0msetProperty\u001b[0m\u001b[1;33m(\u001b[0m\u001b[1;34m'voice'\u001b[0m\u001b[1;33m,\u001b[0m\u001b[0mvoices\u001b[0m\u001b[1;33m[\u001b[0m\u001b[1;36m0\u001b[0m\u001b[1;33m]\u001b[0m\u001b[1;33m.\u001b[0m\u001b[0mid\u001b[0m\u001b[1;33m)\u001b[0m\u001b[1;33m\u001b[0m\u001b[1;33m\u001b[0m\u001b[0m\n\u001b[0m\u001b[0;32m      2\u001b[0m \u001b[1;33m\u001b[0m\u001b[0m\n\u001b[0;32m      3\u001b[0m \u001b[1;32mdef\u001b[0m \u001b[0mspeak\u001b[0m\u001b[1;33m(\u001b[0m\u001b[0mword\u001b[0m\u001b[1;33m)\u001b[0m\u001b[1;33m:\u001b[0m\u001b[1;33m\u001b[0m\u001b[1;33m\u001b[0m\u001b[0m\n\u001b[0;32m      4\u001b[0m     \u001b[0mengine\u001b[0m\u001b[1;33m.\u001b[0m\u001b[0msay\u001b[0m\u001b[1;33m(\u001b[0m\u001b[0mword\u001b[0m\u001b[1;33m)\u001b[0m\u001b[1;33m\u001b[0m\u001b[1;33m\u001b[0m\u001b[0m\n\u001b[0;32m      5\u001b[0m     \u001b[0mengine\u001b[0m\u001b[1;33m.\u001b[0m\u001b[0mrunAndWait\u001b[0m\u001b[1;33m(\u001b[0m\u001b[1;33m)\u001b[0m\u001b[1;33m\u001b[0m\u001b[1;33m\u001b[0m\u001b[0m\n",
      "\u001b[1;31mNameError\u001b[0m: name 'engine' is not defined"
     ]
    }
   ],
   "source": [
    "engine.setProperty('voice',voices[0].id)\n",
    "\n",
    "def speak(word):\n",
    "    engine.say(word)\n",
    "    engine.runAndWait()"
   ]
  },
  {
   "cell_type": "code",
   "execution_count": null,
   "metadata": {},
   "outputs": [],
   "source": [
    "import speech_recognition in "
   ]
  }
 ],
 "metadata": {
  "kernelspec": {
   "display_name": "Python 3",
   "language": "python",
   "name": "python3"
  },
  "language_info": {
   "codemirror_mode": {
    "name": "ipython",
    "version": 3
   },
   "file_extension": ".py",
   "mimetype": "text/x-python",
   "name": "python",
   "nbconvert_exporter": "python",
   "pygments_lexer": "ipython3",
   "version": "3.7.6"
  }
 },
 "nbformat": 4,
 "nbformat_minor": 2
}
